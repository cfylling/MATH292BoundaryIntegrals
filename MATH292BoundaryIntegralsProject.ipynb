{
 "cells": [
  {
   "cell_type": "code",
   "execution_count": 3,
   "metadata": {},
   "outputs": [],
   "source": [
    "import numpy as np\n",
    "import matplotlib as plt"
   ]
  },
  {
   "cell_type": "code",
   "execution_count": 4,
   "metadata": {},
   "outputs": [],
   "source": [
    "pi = np.pi\n",
    "nan = np.nan"
   ]
  },
  {
   "cell_type": "code",
   "execution_count": 5,
   "metadata": {},
   "outputs": [],
   "source": [
    "u0 = 0\n",
    "uf = 2*pi\n",
    "\n",
    "v0 = 0\n",
    "vf = pi\n",
    "\n",
    "n = 20 # quadrature points in theta\n",
    "m = 20 # quadrature points in phi\n",
    "\n",
    "a = 1 # ellipsoid radii\n",
    "b = 2\n",
    "c = 3\n",
    "\n",
    "h = (uf - u0) / n\n",
    "k = (vf - v0) / m\n",
    "\n",
    "# These get used in greens and are temporary\n",
    "DynVis = 0.5 # Dynamic Viscosity arbitrarily chosen. This should be nondimensionalized, or I should \n",
    "GreensCnst = 1 / ( 8 * pi * DynVis ) # look up a good value, but honestly I just can't be bothered"
   ]
  },
  {
   "cell_type": "code",
   "execution_count": 6,
   "metadata": {},
   "outputs": [],
   "source": [
    "mu = np.zeros( (m+1) * (n+1) )"
   ]
  },
  {
   "cell_type": "code",
   "execution_count": 7,
   "metadata": {},
   "outputs": [],
   "source": [
    "## coordinate defs\n",
    "\n",
    "def crt2sph(x):\n",
    "    # Enter cartesan coordinates as x = [x0,x1,x2] \n",
    "    # and receive spherical coordinates as r = [rho,theta,phi]\n",
    "    rho = np.sqrt( x[0]**2 + x[1]**2 + x[2]**2 )\n",
    "    theta = np.arctan( x[0] / x[1] )\n",
    "    phi = np.arctan( ( x[0]**2 + x[1]**2 ) / x[2] )\n",
    "    return [rho, theta, phi]\n",
    "\n",
    "def sph2crt(r):\n",
    "    # Enter spherical coordinates as r = [rho,theta,phi]\n",
    "    # and receive cartesan coordinates as x = [x0,x1,x2] \n",
    "    x0 = r[0] * np.cos(r[1]) * np.sin(r[2])\n",
    "    x1 = r[0] * np.sin(r[1]) * np.sin(r[2])\n",
    "    x2 = r[0] * np.cos(r[2])\n",
    "    return [x0, x1, x2]\n",
    "\n",
    "def bdy(u,v):\n",
    "    # Enter parameters for the boundary of an ellipse as (theta,phi)\n",
    "    # and receive cartesan coordinates [x0,x1,x2]\n",
    "    return [a*np.cos(u)*np.sin(v), b*sin(u)*sin(v), c*cos(v)]\n",
    "\n",
    "def rho(u,v):\n",
    "    # Enter the parameters for the boundary of an ellipse as (theta,phi)\n",
    "    # and receive distance to origin from boundary at that point \n",
    "    return np.sqrt( bdy(u,v)[0]**2 + bdy(u,v)[1]**2 + bdy(u,v)[2]**2 )\n",
    "\n",
    "def rhoify(u,v):\n",
    "    # Enter the parameters for the boundary of an ellipse as (theta,phi)\n",
    "    # and receive spherical coordinates as r = [rho,theta,phi] for a point on the boundary\n",
    "    return [rho(u,v),u,v]\n",
    "                       \n",
    "## function defs\n",
    "\n",
    "def greens(x):\n",
    "    # Enter cartesan vector as x = [a, b, c] \n",
    "    # and receive the Greens for Stokes, aka the Oseen Tensor \n",
    "    xn = np.linalg.norm(x, 2)\n",
    "    A = np.matmul(xn, np.identity(3))\n",
    "    B = np.matmul(xn**3, np.outer(x, x))\n",
    "    result = np.matmul( GreensCnst, A + B )\n",
    "    return result\n",
    "\n",
    "def jacobian(u,v):\n",
    "    # Enter the parameters for the boundary of an ellipse as (theta,phi)\n",
    "    # and receive the jacobian evaluated there\n",
    "    return a * b * c * np.sin(v) * np.sqrt( (b * c)**2 * np.cos(u)**2 * np.sin(v)**2 + \\\n",
    "                                           (a * c)**2 * np.sin(u)**2 * np.sin(v)**2 + \\\n",
    "                                           (a * b)**2 * np.cos(v)**2 )"
   ]
  },
  {
   "cell_type": "code",
   "execution_count": null,
   "metadata": {},
   "outputs": [],
   "source": []
  },
  {
   "cell_type": "code",
   "execution_count": null,
   "metadata": {},
   "outputs": [],
   "source": []
  }
 ],
 "metadata": {
  "kernelspec": {
   "display_name": "Python 3",
   "language": "python",
   "name": "python3"
  },
  "language_info": {
   "codemirror_mode": {
    "name": "ipython",
    "version": 3
   },
   "file_extension": ".py",
   "mimetype": "text/x-python",
   "name": "python",
   "nbconvert_exporter": "python",
   "pygments_lexer": "ipython3",
   "version": "3.7.4"
  }
 },
 "nbformat": 4,
 "nbformat_minor": 2
}
